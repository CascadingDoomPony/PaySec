{
 "cells": [
  {
   "cell_type": "code",
   "execution_count": 1,
   "metadata": {},
   "outputs": [],
   "source": [
    "import requests \n",
    "import os\n",
    "# from dotenv import load_dotenv\n",
    "from AuthToken import WyreApi"
   ]
  },
  {
   "cell_type": "code",
   "execution_count": 2,
   "metadata": {},
   "outputs": [],
   "source": [
    "# load_dotenv()\n",
    "# wyreToken = os.getenv(\"WYRE_TOKEN\")"
   ]
  },
  {
   "cell_type": "code",
   "execution_count": 5,
   "metadata": {},
   "outputs": [
    {
     "name": "stdout",
     "output_type": "stream",
     "text": [
      "new secret key: adc3b6ffe5a86384d42d48c05e35779906ff3bc9348eb1e2310fc4748084\n"
     ]
    }
   ],
   "source": [
    "sk = WyreApi.generate_token(WyreApi, tok_length=30)\n",
    "print(\"new secret key:\",sk)"
   ]
  },
  {
   "cell_type": "code",
   "execution_count": 6,
   "metadata": {},
   "outputs": [
    {
     "name": "stdout",
     "output_type": "stream",
     "text": [
      "{'apiKey': 'TEST-AK-V8CZAZED-PDENW7RG-F8H33697-7AAW3F2M', 'authenticatedAs': None}\n"
     ]
    }
   ],
   "source": [
    "apiKey = WyreApi.submitAuthToken(WyreApi, sk)\n",
    "print(apiKey)"
   ]
  },
  {
   "cell_type": "code",
   "execution_count": null,
   "metadata": {},
   "outputs": [],
   "source": [
    "# now we need to associate credentials(SK, apiKey) to an account. but due to \n",
    "# verifacation problems, can not proceed\n",
    "# see here: https://docs.sendwyre.com/reference/createaccount\n"
   ]
  }
 ],
 "metadata": {
  "kernelspec": {
   "display_name": "Python 3.9.12 ('dev')",
   "language": "python",
   "name": "python3"
  },
  "language_info": {
   "codemirror_mode": {
    "name": "ipython",
    "version": 3
   },
   "file_extension": ".py",
   "mimetype": "text/x-python",
   "name": "python",
   "nbconvert_exporter": "python",
   "pygments_lexer": "ipython3",
   "version": "3.9.12"
  },
  "orig_nbformat": 4,
  "vscode": {
   "interpreter": {
    "hash": "b8b42186d221ae2cf7cdebb84cac9cc78f2bde78343fe059e7c68dc7fe3fa4ab"
   }
  }
 },
 "nbformat": 4,
 "nbformat_minor": 2
}
